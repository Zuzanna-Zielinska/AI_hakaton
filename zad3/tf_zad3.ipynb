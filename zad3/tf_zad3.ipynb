{
 "cells": [
  {
   "cell_type": "code",
   "execution_count": 1,
   "metadata": {},
   "outputs": [],
   "source": [
    "import numpy as np\n",
    "import matplotlib.pyplot as plt"
   ]
  },
  {
   "cell_type": "code",
   "execution_count": 2,
   "metadata": {},
   "outputs": [],
   "source": [
    "#load data\n",
    "data_file=np.load(\"/home/mati/AGH/AIHack/DefenseTransformationEvaluate.npz\")\n",
    "labels=data_file['labels']\n",
    "x=data_file['representations']\n"
   ]
  },
  {
   "cell_type": "code",
   "execution_count": 3,
   "metadata": {},
   "outputs": [],
   "source": [
    "batch_size = 16"
   ]
  },
  {
   "cell_type": "code",
   "execution_count": 4,
   "metadata": {},
   "outputs": [],
   "source": [
    "def shuffle(x, y):\n",
    "    indices = np.arange(x.shape[0])\n",
    "    np.random.shuffle(indices)\n",
    "    return x[indices], y[indices]\n",
    "\n",
    "def split_data(x, y, ratio=0.8):\n",
    "    x, y = shuffle(x, y)\n",
    "    split = int(x.shape[0] * ratio)\n",
    "    x_train, y_train = x[:split], y[:split]\n",
    "    x_test, y_test = x[split:], y[split:]\n",
    "    return x_train, y_train, x_test, y_test\n",
    "\n",
    "x,y=shuffle(x,labels)\n",
    "x_train, y_train = x, y\n"
   ]
  },
  {
   "cell_type": "code",
   "execution_count": 5,
   "metadata": {},
   "outputs": [
    {
     "name": "stderr",
     "output_type": "stream",
     "text": [
      "2024-03-17 00:07:01.381567: I tensorflow/stream_executor/platform/default/dso_loader.cc:49] Successfully opened dynamic library libcudart.so.10.1\n"
     ]
    }
   ],
   "source": [
    "from tensorflow.keras.models import Sequential\n",
    "from tensorflow.keras.layers import Dense, Activation, Dropout, Flatten\n",
    "from tensorflow.keras.optimizers import Adam\n",
    "from tensorflow.keras.utils import to_categorical"
   ]
  },
  {
   "cell_type": "code",
   "execution_count": 6,
   "metadata": {},
   "outputs": [],
   "source": [
    "y_train = to_categorical(y_train)"
   ]
  },
  {
   "cell_type": "code",
   "execution_count": 7,
   "metadata": {},
   "outputs": [],
   "source": [
    "def create_model():\n",
    "    net = Sequential()\n",
    "    net.add(Dense(2048, activation='relu'))\n",
    "    net.add(Dropout(0.7))\n",
    "    net.add(Dense(1024, activation='relu'))\n",
    "    net.add(Dropout(0.7))\n",
    "    net.add(Dense(512, activation='relu'))\n",
    "    net.add(Dropout(0.6))\n",
    "    net.add(Dense(256, activation='relu'))\n",
    "    net.add(Dropout(0.4))\n",
    "    net.add(Dense(128, activation='relu'))\n",
    "    net.add(Dropout(0.5))\n",
    "    net.add(Dense(64, activation='relu'))\n",
    "    net.add(Dropout(0.5))\n",
    "    net.add(Dense(10, activation='softmax'))\n",
    "    return net"
   ]
  },
  {
   "cell_type": "code",
   "execution_count": 8,
   "metadata": {},
   "outputs": [
    {
     "name": "stderr",
     "output_type": "stream",
     "text": [
      "2024-03-17 00:07:05.904076: I tensorflow/compiler/jit/xla_cpu_device.cc:41] Not creating XLA devices, tf_xla_enable_xla_devices not set\n",
      "2024-03-17 00:07:05.904672: I tensorflow/stream_executor/platform/default/dso_loader.cc:49] Successfully opened dynamic library libcuda.so.1\n",
      "2024-03-17 00:07:07.394389: I tensorflow/stream_executor/cuda/cuda_gpu_executor.cc:941] successful NUMA node read from SysFS had negative value (-1), but there must be at least one NUMA node, so returning NUMA node zero\n",
      "2024-03-17 00:07:07.394523: I tensorflow/core/common_runtime/gpu/gpu_device.cc:1720] Found device 0 with properties: \n",
      "pciBusID: 0000:01:00.0 name: NVIDIA GeForce RTX 3060 Laptop GPU computeCapability: 8.6\n",
      "coreClock: 1.425GHz coreCount: 30 deviceMemorySize: 5.81GiB deviceMemoryBandwidth: 312.97GiB/s\n",
      "2024-03-17 00:07:07.394543: I tensorflow/stream_executor/platform/default/dso_loader.cc:49] Successfully opened dynamic library libcudart.so.10.1\n",
      "2024-03-17 00:07:07.395453: I tensorflow/stream_executor/platform/default/dso_loader.cc:49] Successfully opened dynamic library libcublas.so.10\n",
      "2024-03-17 00:07:07.395482: I tensorflow/stream_executor/platform/default/dso_loader.cc:49] Successfully opened dynamic library libcublasLt.so.10\n",
      "2024-03-17 00:07:07.396587: I tensorflow/stream_executor/platform/default/dso_loader.cc:49] Successfully opened dynamic library libcufft.so.10\n",
      "2024-03-17 00:07:07.396760: I tensorflow/stream_executor/platform/default/dso_loader.cc:49] Successfully opened dynamic library libcurand.so.10\n",
      "2024-03-17 00:07:07.397716: I tensorflow/stream_executor/platform/default/dso_loader.cc:49] Successfully opened dynamic library libcusolver.so.10\n",
      "2024-03-17 00:07:07.398220: I tensorflow/stream_executor/platform/default/dso_loader.cc:49] Successfully opened dynamic library libcusparse.so.10\n",
      "2024-03-17 00:07:07.400484: I tensorflow/stream_executor/platform/default/dso_loader.cc:49] Successfully opened dynamic library libcudnn.so.7\n",
      "2024-03-17 00:07:07.400604: I tensorflow/stream_executor/cuda/cuda_gpu_executor.cc:941] successful NUMA node read from SysFS had negative value (-1), but there must be at least one NUMA node, so returning NUMA node zero\n",
      "2024-03-17 00:07:07.400823: I tensorflow/stream_executor/cuda/cuda_gpu_executor.cc:941] successful NUMA node read from SysFS had negative value (-1), but there must be at least one NUMA node, so returning NUMA node zero\n",
      "2024-03-17 00:07:07.400936: I tensorflow/core/common_runtime/gpu/gpu_device.cc:1862] Adding visible gpu devices: 0\n",
      "2024-03-17 00:07:07.401590: I tensorflow/core/platform/cpu_feature_guard.cc:142] This TensorFlow binary is optimized with oneAPI Deep Neural Network Library (oneDNN) to use the following CPU instructions in performance-critical operations:  SSE4.1 SSE4.2 AVX AVX2 FMA\n",
      "To enable them in other operations, rebuild TensorFlow with the appropriate compiler flags.\n",
      "2024-03-17 00:07:07.402000: I tensorflow/compiler/jit/xla_gpu_device.cc:99] Not creating XLA devices, tf_xla_enable_xla_devices not set\n",
      "2024-03-17 00:07:07.402097: I tensorflow/stream_executor/cuda/cuda_gpu_executor.cc:941] successful NUMA node read from SysFS had negative value (-1), but there must be at least one NUMA node, so returning NUMA node zero\n",
      "2024-03-17 00:07:07.402204: I tensorflow/core/common_runtime/gpu/gpu_device.cc:1720] Found device 0 with properties: \n",
      "pciBusID: 0000:01:00.0 name: NVIDIA GeForce RTX 3060 Laptop GPU computeCapability: 8.6\n",
      "coreClock: 1.425GHz coreCount: 30 deviceMemorySize: 5.81GiB deviceMemoryBandwidth: 312.97GiB/s\n",
      "2024-03-17 00:07:07.402225: I tensorflow/stream_executor/platform/default/dso_loader.cc:49] Successfully opened dynamic library libcudart.so.10.1\n",
      "2024-03-17 00:07:07.402245: I tensorflow/stream_executor/platform/default/dso_loader.cc:49] Successfully opened dynamic library libcublas.so.10\n",
      "2024-03-17 00:07:07.402256: I tensorflow/stream_executor/platform/default/dso_loader.cc:49] Successfully opened dynamic library libcublasLt.so.10\n",
      "2024-03-17 00:07:07.402265: I tensorflow/stream_executor/platform/default/dso_loader.cc:49] Successfully opened dynamic library libcufft.so.10\n",
      "2024-03-17 00:07:07.402272: I tensorflow/stream_executor/platform/default/dso_loader.cc:49] Successfully opened dynamic library libcurand.so.10\n",
      "2024-03-17 00:07:07.402281: I tensorflow/stream_executor/platform/default/dso_loader.cc:49] Successfully opened dynamic library libcusolver.so.10\n",
      "2024-03-17 00:07:07.402289: I tensorflow/stream_executor/platform/default/dso_loader.cc:49] Successfully opened dynamic library libcusparse.so.10\n",
      "2024-03-17 00:07:07.402297: I tensorflow/stream_executor/platform/default/dso_loader.cc:49] Successfully opened dynamic library libcudnn.so.7\n",
      "2024-03-17 00:07:07.402344: I tensorflow/stream_executor/cuda/cuda_gpu_executor.cc:941] successful NUMA node read from SysFS had negative value (-1), but there must be at least one NUMA node, so returning NUMA node zero\n",
      "2024-03-17 00:07:07.402465: I tensorflow/stream_executor/cuda/cuda_gpu_executor.cc:941] successful NUMA node read from SysFS had negative value (-1), but there must be at least one NUMA node, so returning NUMA node zero\n",
      "2024-03-17 00:07:07.402550: I tensorflow/core/common_runtime/gpu/gpu_device.cc:1862] Adding visible gpu devices: 0\n",
      "2024-03-17 00:07:07.402576: I tensorflow/stream_executor/platform/default/dso_loader.cc:49] Successfully opened dynamic library libcudart.so.10.1\n",
      "2024-03-17 00:07:37.918378: I tensorflow/core/common_runtime/gpu/gpu_device.cc:1261] Device interconnect StreamExecutor with strength 1 edge matrix:\n",
      "2024-03-17 00:07:37.918396: I tensorflow/core/common_runtime/gpu/gpu_device.cc:1267]      0 \n",
      "2024-03-17 00:07:37.918402: I tensorflow/core/common_runtime/gpu/gpu_device.cc:1280] 0:   N \n",
      "2024-03-17 00:07:37.918566: I tensorflow/stream_executor/cuda/cuda_gpu_executor.cc:941] successful NUMA node read from SysFS had negative value (-1), but there must be at least one NUMA node, so returning NUMA node zero\n",
      "2024-03-17 00:07:37.918702: I tensorflow/stream_executor/cuda/cuda_gpu_executor.cc:941] successful NUMA node read from SysFS had negative value (-1), but there must be at least one NUMA node, so returning NUMA node zero\n",
      "2024-03-17 00:07:37.918811: I tensorflow/stream_executor/cuda/cuda_gpu_executor.cc:941] successful NUMA node read from SysFS had negative value (-1), but there must be at least one NUMA node, so returning NUMA node zero\n",
      "2024-03-17 00:07:37.918904: I tensorflow/core/common_runtime/gpu/gpu_device.cc:1406] Created TensorFlow device (/job:localhost/replica:0/task:0/device:GPU:0 with 5334 MB memory) -> physical GPU (device: 0, name: NVIDIA GeForce RTX 3060 Laptop GPU, pci bus id: 0000:01:00.0, compute capability: 8.6)\n"
     ]
    }
   ],
   "source": [
    "net = create_model()\n",
    "net.compile(optimizer=Adam(), loss='categorical_crossentropy', metrics=['accuracy'])\n",
    "# net.summary()"
   ]
  },
  {
   "cell_type": "code",
   "execution_count": 9,
   "metadata": {},
   "outputs": [
    {
     "name": "stderr",
     "output_type": "stream",
     "text": [
      "2024-03-17 00:07:40.323047: I tensorflow/compiler/mlir/mlir_graph_optimization_pass.cc:116] None of the MLIR optimization passes are enabled (registered 2)\n",
      "2024-03-17 00:07:40.340354: I tensorflow/core/platform/profile_utils/cpu_utils.cc:112] CPU Frequency: 3293905000 Hz\n"
     ]
    },
    {
     "name": "stdout",
     "output_type": "stream",
     "text": [
      "Epoch 1/60\n"
     ]
    },
    {
     "name": "stderr",
     "output_type": "stream",
     "text": [
      "2024-03-17 00:07:40.696578: I tensorflow/stream_executor/platform/default/dso_loader.cc:49] Successfully opened dynamic library libcublas.so.10\n"
     ]
    },
    {
     "name": "stdout",
     "output_type": "stream",
     "text": [
      "250/250 [==============================] - 1s 4ms/step - loss: 4.4585 - accuracy: 0.0970 - val_loss: 2.3014 - val_accuracy: 0.0890\n",
      "Epoch 2/60\n",
      "250/250 [==============================] - 1s 3ms/step - loss: 2.3865 - accuracy: 0.1226 - val_loss: 2.2733 - val_accuracy: 0.1160\n",
      "Epoch 3/60\n",
      "250/250 [==============================] - 1s 3ms/step - loss: 2.2577 - accuracy: 0.1567 - val_loss: 1.7451 - val_accuracy: 0.3040\n",
      "Epoch 4/60\n",
      "250/250 [==============================] - 1s 3ms/step - loss: 1.8967 - accuracy: 0.2695 - val_loss: 1.2371 - val_accuracy: 0.5470\n",
      "Epoch 5/60\n",
      "250/250 [==============================] - 1s 2ms/step - loss: 1.5677 - accuracy: 0.3602 - val_loss: 1.0118 - val_accuracy: 0.5220\n",
      "Epoch 6/60\n",
      "250/250 [==============================] - 1s 3ms/step - loss: 1.3251 - accuracy: 0.4175 - val_loss: 0.9099 - val_accuracy: 0.5590\n",
      "Epoch 7/60\n",
      "250/250 [==============================] - 1s 2ms/step - loss: 1.2235 - accuracy: 0.4777 - val_loss: 0.8128 - val_accuracy: 0.6900\n",
      "Epoch 8/60\n",
      "250/250 [==============================] - 1s 2ms/step - loss: 1.1421 - accuracy: 0.5174 - val_loss: 0.7466 - val_accuracy: 0.7420\n",
      "Epoch 9/60\n",
      "250/250 [==============================] - 1s 3ms/step - loss: 1.0103 - accuracy: 0.5669 - val_loss: 0.6781 - val_accuracy: 0.7920\n",
      "Epoch 10/60\n",
      "250/250 [==============================] - 1s 3ms/step - loss: 0.9612 - accuracy: 0.6103 - val_loss: 0.6428 - val_accuracy: 0.7690\n",
      "Epoch 11/60\n",
      "250/250 [==============================] - 1s 3ms/step - loss: 0.8992 - accuracy: 0.6437 - val_loss: 0.5667 - val_accuracy: 0.8160\n",
      "Epoch 12/60\n",
      "250/250 [==============================] - 1s 3ms/step - loss: 0.9054 - accuracy: 0.6680 - val_loss: 0.4852 - val_accuracy: 0.7730\n",
      "Epoch 13/60\n",
      "250/250 [==============================] - 1s 3ms/step - loss: 0.7860 - accuracy: 0.7043 - val_loss: 0.5050 - val_accuracy: 0.7990\n",
      "Epoch 14/60\n",
      "250/250 [==============================] - 1s 3ms/step - loss: 0.8013 - accuracy: 0.6929 - val_loss: 0.4817 - val_accuracy: 0.8280\n",
      "Epoch 15/60\n",
      "250/250 [==============================] - 1s 2ms/step - loss: 0.7503 - accuracy: 0.7008 - val_loss: 0.4812 - val_accuracy: 0.8510\n",
      "Epoch 16/60\n",
      "250/250 [==============================] - 1s 2ms/step - loss: 0.7069 - accuracy: 0.7227 - val_loss: 0.4844 - val_accuracy: 0.8450\n",
      "Epoch 17/60\n",
      "250/250 [==============================] - 1s 3ms/step - loss: 0.6973 - accuracy: 0.7510 - val_loss: 0.4346 - val_accuracy: 0.8380\n",
      "Epoch 18/60\n",
      "250/250 [==============================] - 1s 3ms/step - loss: 0.6662 - accuracy: 0.7559 - val_loss: 0.4312 - val_accuracy: 0.8280\n",
      "Epoch 19/60\n",
      "250/250 [==============================] - 1s 2ms/step - loss: 0.7085 - accuracy: 0.7317 - val_loss: 0.5347 - val_accuracy: 0.7920\n",
      "Epoch 20/60\n",
      "250/250 [==============================] - 1s 2ms/step - loss: 0.6161 - accuracy: 0.7862 - val_loss: 0.4595 - val_accuracy: 0.8290\n",
      "Epoch 21/60\n",
      "250/250 [==============================] - 1s 2ms/step - loss: 0.6402 - accuracy: 0.7581 - val_loss: 0.4926 - val_accuracy: 0.8460\n",
      "Epoch 22/60\n",
      "250/250 [==============================] - 1s 2ms/step - loss: 0.5527 - accuracy: 0.8067 - val_loss: 0.4852 - val_accuracy: 0.8480\n",
      "Epoch 23/60\n",
      "250/250 [==============================] - 1s 3ms/step - loss: 0.6622 - accuracy: 0.8015 - val_loss: 0.4503 - val_accuracy: 0.9000\n",
      "Epoch 24/60\n",
      "250/250 [==============================] - 1s 3ms/step - loss: 0.5558 - accuracy: 0.8182 - val_loss: 0.4699 - val_accuracy: 0.8790\n",
      "Epoch 25/60\n",
      "250/250 [==============================] - 1s 2ms/step - loss: 0.6097 - accuracy: 0.7900 - val_loss: 0.4220 - val_accuracy: 0.8470\n",
      "Epoch 26/60\n",
      "250/250 [==============================] - 1s 3ms/step - loss: 0.5652 - accuracy: 0.8105 - val_loss: 0.4089 - val_accuracy: 0.9030\n",
      "Epoch 27/60\n",
      "250/250 [==============================] - 1s 2ms/step - loss: 0.5976 - accuracy: 0.8210 - val_loss: 0.4161 - val_accuracy: 0.9060\n",
      "Epoch 28/60\n",
      "250/250 [==============================] - 1s 2ms/step - loss: 0.6326 - accuracy: 0.8072 - val_loss: 0.4053 - val_accuracy: 0.9180\n",
      "Epoch 29/60\n",
      "250/250 [==============================] - 1s 3ms/step - loss: 0.4596 - accuracy: 0.8416 - val_loss: 0.3973 - val_accuracy: 0.9080\n",
      "Epoch 30/60\n",
      "250/250 [==============================] - 1s 2ms/step - loss: 0.5407 - accuracy: 0.8309 - val_loss: 0.3611 - val_accuracy: 0.9330\n",
      "Epoch 31/60\n",
      "250/250 [==============================] - 1s 2ms/step - loss: 0.5513 - accuracy: 0.8376 - val_loss: 0.3548 - val_accuracy: 0.9200\n",
      "Epoch 32/60\n",
      "250/250 [==============================] - 1s 3ms/step - loss: 0.5168 - accuracy: 0.8393 - val_loss: 0.3386 - val_accuracy: 0.9370\n",
      "Epoch 33/60\n",
      "250/250 [==============================] - 1s 3ms/step - loss: 0.5151 - accuracy: 0.8518 - val_loss: 0.4307 - val_accuracy: 0.9260\n",
      "Epoch 34/60\n",
      "250/250 [==============================] - 1s 3ms/step - loss: 0.4883 - accuracy: 0.8623 - val_loss: 0.3218 - val_accuracy: 0.9300\n",
      "Epoch 35/60\n",
      "250/250 [==============================] - 1s 3ms/step - loss: 0.4466 - accuracy: 0.8621 - val_loss: 0.3955 - val_accuracy: 0.9230\n",
      "Epoch 36/60\n",
      "250/250 [==============================] - 1s 3ms/step - loss: 0.5280 - accuracy: 0.8680 - val_loss: 0.4222 - val_accuracy: 0.9340\n",
      "Epoch 37/60\n",
      "250/250 [==============================] - 1s 3ms/step - loss: 0.4302 - accuracy: 0.8937 - val_loss: 0.4426 - val_accuracy: 0.9240\n",
      "Epoch 38/60\n",
      "250/250 [==============================] - 1s 2ms/step - loss: 0.5467 - accuracy: 0.8710 - val_loss: 0.4401 - val_accuracy: 0.9280\n",
      "Epoch 39/60\n",
      "250/250 [==============================] - 1s 3ms/step - loss: 0.4707 - accuracy: 0.8775 - val_loss: 0.3840 - val_accuracy: 0.9390\n",
      "Epoch 40/60\n",
      "250/250 [==============================] - 1s 2ms/step - loss: 0.4225 - accuracy: 0.8834 - val_loss: 0.4310 - val_accuracy: 0.9350\n",
      "Epoch 41/60\n",
      "250/250 [==============================] - 1s 2ms/step - loss: 0.4961 - accuracy: 0.8717 - val_loss: 0.4593 - val_accuracy: 0.9400\n",
      "Epoch 42/60\n",
      "250/250 [==============================] - 1s 2ms/step - loss: 0.3936 - accuracy: 0.8864 - val_loss: 0.3235 - val_accuracy: 0.9280\n",
      "Epoch 43/60\n",
      "250/250 [==============================] - 1s 3ms/step - loss: 0.4523 - accuracy: 0.8790 - val_loss: 0.4765 - val_accuracy: 0.9340\n",
      "Epoch 44/60\n",
      "250/250 [==============================] - 1s 2ms/step - loss: 0.4136 - accuracy: 0.8902 - val_loss: 0.4597 - val_accuracy: 0.9290\n",
      "Epoch 45/60\n",
      "250/250 [==============================] - 1s 3ms/step - loss: 0.5204 - accuracy: 0.8748 - val_loss: 0.3878 - val_accuracy: 0.9270\n",
      "Epoch 46/60\n",
      "250/250 [==============================] - 1s 3ms/step - loss: 0.4278 - accuracy: 0.8943 - val_loss: 0.4295 - val_accuracy: 0.9240\n",
      "Epoch 47/60\n",
      "250/250 [==============================] - 1s 3ms/step - loss: 0.4423 - accuracy: 0.8928 - val_loss: 0.3714 - val_accuracy: 0.9370\n",
      "Epoch 48/60\n",
      "250/250 [==============================] - 1s 3ms/step - loss: 0.4520 - accuracy: 0.8836 - val_loss: 0.3927 - val_accuracy: 0.9300\n",
      "Epoch 49/60\n",
      "250/250 [==============================] - 1s 3ms/step - loss: 0.4523 - accuracy: 0.8951 - val_loss: 0.3737 - val_accuracy: 0.9280\n",
      "Epoch 50/60\n",
      "250/250 [==============================] - 1s 3ms/step - loss: 0.4131 - accuracy: 0.8978 - val_loss: 0.4511 - val_accuracy: 0.9370\n",
      "Epoch 51/60\n",
      "250/250 [==============================] - 1s 3ms/step - loss: 0.3952 - accuracy: 0.8938 - val_loss: 0.3893 - val_accuracy: 0.9350\n",
      "Epoch 52/60\n",
      "250/250 [==============================] - 1s 3ms/step - loss: 0.4490 - accuracy: 0.8828 - val_loss: 0.2801 - val_accuracy: 0.9440\n",
      "Epoch 53/60\n",
      "250/250 [==============================] - 1s 3ms/step - loss: 0.5446 - accuracy: 0.8976 - val_loss: 0.3519 - val_accuracy: 0.9380\n",
      "Epoch 54/60\n",
      "250/250 [==============================] - 1s 3ms/step - loss: 0.4660 - accuracy: 0.8824 - val_loss: 0.3469 - val_accuracy: 0.9320\n",
      "Epoch 55/60\n",
      "250/250 [==============================] - 1s 3ms/step - loss: 0.3827 - accuracy: 0.9010 - val_loss: 0.4096 - val_accuracy: 0.9340\n",
      "Epoch 56/60\n",
      "250/250 [==============================] - 1s 3ms/step - loss: 0.3331 - accuracy: 0.9083 - val_loss: 0.3168 - val_accuracy: 0.9350\n",
      "Epoch 57/60\n",
      "250/250 [==============================] - 1s 3ms/step - loss: 0.4364 - accuracy: 0.8872 - val_loss: 0.3419 - val_accuracy: 0.9380\n",
      "Epoch 58/60\n",
      "250/250 [==============================] - 1s 3ms/step - loss: 0.4172 - accuracy: 0.8953 - val_loss: 0.4475 - val_accuracy: 0.9480\n",
      "Epoch 59/60\n",
      "250/250 [==============================] - 1s 3ms/step - loss: 0.4366 - accuracy: 0.9114 - val_loss: 0.4227 - val_accuracy: 0.9480\n",
      "Epoch 60/60\n",
      "250/250 [==============================] - 1s 3ms/step - loss: 0.3593 - accuracy: 0.9167 - val_loss: 0.5032 - val_accuracy: 0.9560\n"
     ]
    },
    {
     "data": {
      "text/plain": [
       "<tensorflow.python.keras.callbacks.History at 0x7f4c5826d820>"
      ]
     },
     "execution_count": 9,
     "metadata": {},
     "output_type": "execute_result"
    }
   ],
   "source": [
    "net.fit(x_train, y_train, epochs=60, batch_size=batch_size, validation_split=0.2)"
   ]
  },
  {
   "cell_type": "code",
   "execution_count": 10,
   "metadata": {},
   "outputs": [],
   "source": [
    "net.save('classifier.h5')"
   ]
  },
  {
   "cell_type": "code",
   "execution_count": 11,
   "metadata": {},
   "outputs": [],
   "source": [
    "def affinic_transform(x):\n",
    "    #22_proba1.pnz\n",
    "    array_size = x.shape\n",
    "    mul = np.random.uniform(-1,1,size=(1,x.shape[1]))\n",
    "    add = np.random.uniform(-1,1,size=(1,x.shape[1]))\n",
    "    matrix_mult = np.tile(mul,(array_size[0],1))\n",
    "    matrix_add = np.tile(add,(array_size[0],1))\n",
    "    return np.multiply(x,matrix_mult)+matrix_add,mul,add"
   ]
  },
  {
   "cell_type": "code",
   "execution_count": 42,
   "metadata": {},
   "outputs": [],
   "source": [
    "def affinic_transform2(x):\n",
    "    #22_proba1.pnz\n",
    "    array_size = x.shape\n",
    "    mul = np.random.uniform(-2,2,size=(1,x.shape[1]))\n",
    "    add = np.random.uniform(-2,2,size=(1,x.shape[1]))\n",
    "    matrix_mult = np.tile(mul,(array_size[0],1))\n",
    "    matrix_add = np.tile(add,(array_size[0],1))\n",
    "    result = np.multiply(x,matrix_mult)+matrix_add\n",
    "    padding = np.zeros((result.shape[0],32))\n",
    "    print(result.shape)\n",
    "    result = np.hstack([padding,result])\n",
    "    print(result.shape)\n",
    "    column_indices = np.random.permutation(result.shape[1])\n",
    "\n",
    "    return result[:,column_indices],mul,add"
   ]
  },
  {
   "cell_type": "code",
   "execution_count": 43,
   "metadata": {},
   "outputs": [
    {
     "name": "stdout",
     "output_type": "stream",
     "text": [
      "(5000, 192)\n",
      "(5000, 224)\n"
     ]
    }
   ],
   "source": [
    "x_transform, mul, add = affinic_transform2(x_train)"
   ]
  },
  {
   "cell_type": "code",
   "execution_count": 44,
   "metadata": {},
   "outputs": [],
   "source": [
    "net_aff = create_model()\n",
    "\n",
    "net_aff.compile(optimizer=Adam(), loss='categorical_crossentropy', metrics=['accuracy'])"
   ]
  },
  {
   "cell_type": "code",
   "execution_count": 45,
   "metadata": {},
   "outputs": [
    {
     "name": "stdout",
     "output_type": "stream",
     "text": [
      "Epoch 1/60\n",
      "250/250 [==============================] - 1s 3ms/step - loss: 5.0022 - accuracy: 0.1093 - val_loss: 2.2995 - val_accuracy: 0.1710\n",
      "Epoch 2/60\n",
      "250/250 [==============================] - 1s 3ms/step - loss: 2.4042 - accuracy: 0.1036 - val_loss: 2.2443 - val_accuracy: 0.2650\n",
      "Epoch 3/60\n",
      "250/250 [==============================] - 1s 3ms/step - loss: 2.2737 - accuracy: 0.1410 - val_loss: 1.9233 - val_accuracy: 0.4410\n",
      "Epoch 4/60\n",
      "250/250 [==============================] - 1s 3ms/step - loss: 2.0336 - accuracy: 0.2194 - val_loss: 1.5694 - val_accuracy: 0.4010\n",
      "Epoch 5/60\n",
      "250/250 [==============================] - 1s 3ms/step - loss: 1.7211 - accuracy: 0.3086 - val_loss: 1.2887 - val_accuracy: 0.5190\n",
      "Epoch 6/60\n",
      "250/250 [==============================] - 1s 3ms/step - loss: 1.5114 - accuracy: 0.3843 - val_loss: 1.1165 - val_accuracy: 0.6200\n",
      "Epoch 7/60\n",
      "250/250 [==============================] - 1s 3ms/step - loss: 1.3801 - accuracy: 0.4380 - val_loss: 1.0002 - val_accuracy: 0.6310\n",
      "Epoch 8/60\n",
      "250/250 [==============================] - 1s 3ms/step - loss: 1.2489 - accuracy: 0.4711 - val_loss: 0.8758 - val_accuracy: 0.6600\n",
      "Epoch 9/60\n",
      "250/250 [==============================] - 1s 3ms/step - loss: 1.1309 - accuracy: 0.5076 - val_loss: 0.7377 - val_accuracy: 0.7220\n",
      "Epoch 10/60\n",
      "250/250 [==============================] - 1s 3ms/step - loss: 1.0873 - accuracy: 0.5480 - val_loss: 0.7220 - val_accuracy: 0.7320\n",
      "Epoch 11/60\n",
      "250/250 [==============================] - 1s 3ms/step - loss: 1.0163 - accuracy: 0.5764 - val_loss: 0.7272 - val_accuracy: 0.6510\n",
      "Epoch 12/60\n",
      "250/250 [==============================] - 1s 3ms/step - loss: 0.9559 - accuracy: 0.6020 - val_loss: 0.6472 - val_accuracy: 0.7400\n",
      "Epoch 13/60\n",
      "250/250 [==============================] - 1s 3ms/step - loss: 0.9223 - accuracy: 0.6238 - val_loss: 0.6463 - val_accuracy: 0.7740\n",
      "Epoch 14/60\n",
      "250/250 [==============================] - 1s 3ms/step - loss: 0.9368 - accuracy: 0.6549 - val_loss: 0.5982 - val_accuracy: 0.8080\n",
      "Epoch 15/60\n",
      "250/250 [==============================] - 1s 3ms/step - loss: 0.8412 - accuracy: 0.6631 - val_loss: 0.5740 - val_accuracy: 0.8050\n",
      "Epoch 16/60\n",
      "250/250 [==============================] - 1s 3ms/step - loss: 0.8982 - accuracy: 0.6439 - val_loss: 0.5106 - val_accuracy: 0.8190\n",
      "Epoch 17/60\n",
      "250/250 [==============================] - 1s 3ms/step - loss: 0.8044 - accuracy: 0.6929 - val_loss: 0.5279 - val_accuracy: 0.8090\n",
      "Epoch 18/60\n",
      "250/250 [==============================] - 1s 3ms/step - loss: 0.7948 - accuracy: 0.6895 - val_loss: 0.4722 - val_accuracy: 0.8480\n",
      "Epoch 19/60\n",
      "250/250 [==============================] - 1s 3ms/step - loss: 0.7622 - accuracy: 0.7225 - val_loss: 0.4551 - val_accuracy: 0.8300\n",
      "Epoch 20/60\n",
      "250/250 [==============================] - 1s 3ms/step - loss: 0.7842 - accuracy: 0.7050 - val_loss: 0.5374 - val_accuracy: 0.8000\n",
      "Epoch 21/60\n",
      "250/250 [==============================] - 1s 3ms/step - loss: 0.7376 - accuracy: 0.7152 - val_loss: 0.4566 - val_accuracy: 0.8160\n",
      "Epoch 22/60\n",
      "250/250 [==============================] - 1s 2ms/step - loss: 0.7082 - accuracy: 0.7402 - val_loss: 0.4810 - val_accuracy: 0.8300\n",
      "Epoch 23/60\n",
      "250/250 [==============================] - 1s 3ms/step - loss: 0.6892 - accuracy: 0.7578 - val_loss: 0.4888 - val_accuracy: 0.8460\n",
      "Epoch 24/60\n",
      "250/250 [==============================] - 1s 3ms/step - loss: 0.7152 - accuracy: 0.7565 - val_loss: 0.4415 - val_accuracy: 0.8530\n",
      "Epoch 25/60\n",
      "250/250 [==============================] - 1s 2ms/step - loss: 0.6366 - accuracy: 0.7660 - val_loss: 0.4939 - val_accuracy: 0.8280\n",
      "Epoch 26/60\n",
      "250/250 [==============================] - 1s 3ms/step - loss: 0.6286 - accuracy: 0.7669 - val_loss: 0.4693 - val_accuracy: 0.8530\n",
      "Epoch 27/60\n",
      "250/250 [==============================] - 1s 3ms/step - loss: 0.5572 - accuracy: 0.8045 - val_loss: 0.4414 - val_accuracy: 0.8490\n",
      "Epoch 28/60\n",
      "250/250 [==============================] - 1s 3ms/step - loss: 0.6013 - accuracy: 0.7822 - val_loss: 0.4166 - val_accuracy: 0.8590\n",
      "Epoch 29/60\n",
      "250/250 [==============================] - 1s 3ms/step - loss: 0.6223 - accuracy: 0.7919 - val_loss: 0.4333 - val_accuracy: 0.8640\n",
      "Epoch 30/60\n",
      "250/250 [==============================] - 1s 2ms/step - loss: 0.5396 - accuracy: 0.8027 - val_loss: 0.3727 - val_accuracy: 0.8770\n",
      "Epoch 31/60\n",
      "250/250 [==============================] - 1s 3ms/step - loss: 0.6565 - accuracy: 0.7797 - val_loss: 0.4001 - val_accuracy: 0.8390\n",
      "Epoch 32/60\n",
      "250/250 [==============================] - 1s 3ms/step - loss: 0.5110 - accuracy: 0.7979 - val_loss: 0.4002 - val_accuracy: 0.8790\n",
      "Epoch 33/60\n",
      "250/250 [==============================] - 1s 3ms/step - loss: 0.5079 - accuracy: 0.8092 - val_loss: 0.4062 - val_accuracy: 0.8350\n",
      "Epoch 34/60\n",
      "250/250 [==============================] - 1s 2ms/step - loss: 0.5820 - accuracy: 0.8124 - val_loss: 0.4549 - val_accuracy: 0.8680\n",
      "Epoch 35/60\n",
      "250/250 [==============================] - 1s 3ms/step - loss: 0.6184 - accuracy: 0.8086 - val_loss: 0.3491 - val_accuracy: 0.8780\n",
      "Epoch 36/60\n",
      "250/250 [==============================] - 1s 3ms/step - loss: 0.6822 - accuracy: 0.8126 - val_loss: 0.3575 - val_accuracy: 0.8920\n",
      "Epoch 37/60\n",
      "250/250 [==============================] - 1s 3ms/step - loss: 0.5830 - accuracy: 0.8185 - val_loss: 0.3593 - val_accuracy: 0.9060\n",
      "Epoch 38/60\n",
      "250/250 [==============================] - 1s 2ms/step - loss: 0.5509 - accuracy: 0.8270 - val_loss: 0.3201 - val_accuracy: 0.8920\n",
      "Epoch 39/60\n",
      "250/250 [==============================] - 1s 3ms/step - loss: 0.6387 - accuracy: 0.8025 - val_loss: 0.3787 - val_accuracy: 0.8880\n",
      "Epoch 40/60\n",
      "250/250 [==============================] - 1s 3ms/step - loss: 0.5321 - accuracy: 0.8484 - val_loss: 0.4338 - val_accuracy: 0.8990\n",
      "Epoch 41/60\n",
      "250/250 [==============================] - 1s 3ms/step - loss: 0.5413 - accuracy: 0.8235 - val_loss: 0.3860 - val_accuracy: 0.9090\n",
      "Epoch 42/60\n",
      "250/250 [==============================] - 1s 2ms/step - loss: 0.5047 - accuracy: 0.8323 - val_loss: 0.4533 - val_accuracy: 0.8690\n",
      "Epoch 43/60\n",
      "250/250 [==============================] - 1s 2ms/step - loss: 0.5049 - accuracy: 0.8416 - val_loss: 0.4078 - val_accuracy: 0.9060\n",
      "Epoch 44/60\n",
      "250/250 [==============================] - 1s 3ms/step - loss: 0.5390 - accuracy: 0.8461 - val_loss: 0.3835 - val_accuracy: 0.8870\n",
      "Epoch 45/60\n",
      "250/250 [==============================] - 1s 3ms/step - loss: 0.4885 - accuracy: 0.8609 - val_loss: 0.3244 - val_accuracy: 0.9170\n",
      "Epoch 46/60\n",
      "250/250 [==============================] - 1s 2ms/step - loss: 0.6103 - accuracy: 0.8487 - val_loss: 0.3322 - val_accuracy: 0.9240\n",
      "Epoch 47/60\n",
      "250/250 [==============================] - 1s 3ms/step - loss: 0.5062 - accuracy: 0.8610 - val_loss: 0.3949 - val_accuracy: 0.9240\n",
      "Epoch 48/60\n",
      "250/250 [==============================] - 1s 3ms/step - loss: 0.6196 - accuracy: 0.8548 - val_loss: 0.2948 - val_accuracy: 0.9350\n",
      "Epoch 49/60\n",
      "250/250 [==============================] - 1s 3ms/step - loss: 0.4662 - accuracy: 0.8688 - val_loss: 0.4529 - val_accuracy: 0.9230\n",
      "Epoch 50/60\n",
      "235/250 [===========================>..] - ETA: 0s - loss: 0.5045 - accuracy: 0.8683"
     ]
    }
   ],
   "source": [
    "net_aff.fit(x_transform, y_train, epochs=60, batch_size=batch_size, validation_split=0.2)"
   ]
  },
  {
   "cell_type": "code",
   "execution_count": 27,
   "metadata": {},
   "outputs": [],
   "source": [
    "X=np.load(\"/home/mati/AGH/AIHack/DefenseTransformationSubmit.npz\")\n",
    "X_EVAL=X['representations']\n",
    "X_EVAL,_,_ = affinic_transform(X_EVAL)\n",
    "X_EVAL = X_EVAL.astype('float32')\n",
    "np.savez(\"24_proba2.npz\",representations=X_EVAL)\n"
   ]
  },
  {
   "cell_type": "code",
   "execution_count": 28,
   "metadata": {},
   "outputs": [
    {
     "name": "stdout",
     "output_type": "stream",
     "text": [
      "['representations']\n",
      "(20250, 192)\n",
      "float32\n"
     ]
    }
   ],
   "source": [
    "b=np.load(\"24_proba2.npz\",allow_pickle=True)\n",
    "X_EVAL=b['representations']\n",
    "print(b.files)\n",
    "print(X_EVAL.shape)\n",
    "print(X_EVAL[0].dtype)"
   ]
  }
 ],
 "metadata": {
  "kernelspec": {
   "display_name": "DNN",
   "language": "python",
   "name": "python3"
  },
  "language_info": {
   "codemirror_mode": {
    "name": "ipython",
    "version": 3
   },
   "file_extension": ".py",
   "mimetype": "text/x-python",
   "name": "python",
   "nbconvert_exporter": "python",
   "pygments_lexer": "ipython3",
   "version": "3.8.18"
  }
 },
 "nbformat": 4,
 "nbformat_minor": 2
}
