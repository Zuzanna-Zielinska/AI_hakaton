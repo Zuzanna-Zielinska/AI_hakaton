{
 "cells": [
  {
   "cell_type": "code",
   "execution_count": 1,
   "metadata": {},
   "outputs": [],
   "source": [
    "import torch\n",
    "import numpy as np\n",
    "import matplotlib.pyplot as plt\n",
    "from taskdataset import TaskDataset\n",
    "import torchvision\n",
    "import cv2\n",
    "\n",
    "path_to_data = \"datasets/ModelStealingPub.pt\" # TODO Set path to datasets files\n",
    "path_to_models = \"models/\"\n",
    "\n",
    "# import torch\n",
    "from torchvision import datasets\n",
    "from torchvision import transforms\n",
    "import matplotlib.pyplot as plt\n",
    "import torch.nn as nn\n",
    "import torch.optim as optim\n",
    "# import torch.onnx\n",
    "import onnx\n",
    "import onnxscript\n",
    "from torchsummary import summary"
   ]
  },
  {
   "cell_type": "code",
   "execution_count": 2,
   "metadata": {},
   "outputs": [],
   "source": [
    "dataset = torch.load(path_to_data)\n",
    "dataset2 = []\n",
    "\n",
    "# lenght = len(dataset)\n",
    "length = 100\n",
    "\n",
    "for i in range(length):\n",
    "    image = np.array(dataset.imgs[i])\n",
    "\n",
    "\n",
    "    if image.shape != (32, 32, 3):\n",
    "        #convert to RGB\n",
    "        image = cv2.cvtColor(image, cv2.COLOR_GRAY2RGB)\n",
    "    #convert to tensor\n",
    "    image = torch.from_numpy(image)\n",
    "\n",
    "    image = image.to(torch.float32) / 255\n",
    "    label = np.random.rand(512)\n",
    "    el = [image.reshape(3*32*32), label.astype(np.float32)]\n",
    "    dataset2.append(el)\n",
    "    # print(image.shape)\n",
    "    # print(image.reshape(3*32*32).shape)\n",
    "\n"
   ]
  },
  {
   "cell_type": "code",
   "execution_count": 3,
   "metadata": {},
   "outputs": [],
   "source": [
    "loader = torch.utils.data.DataLoader(dataset = dataset2,\n",
    "                                     batch_size = 32,\n",
    "                                     shuffle = True)"
   ]
  },
  {
   "cell_type": "code",
   "execution_count": 4,
   "metadata": {},
   "outputs": [],
   "source": [
    "class AE(torch.nn.Module):\n",
    "    def __init__(self):\n",
    "        super().__init__()\n",
    "         \n",
    "        # Building an linear encoder with Linear\n",
    "        # layer followed by Relu activation function\n",
    "        # 784 ==> 9\n",
    "        self.encoder = torch.nn.Sequential(\n",
    "            \n",
    "            torch.nn.Linear(3 * 32 * 32, 1536),\n",
    "            torch.nn.ReLU(),\n",
    "            torch.nn.Linear(1536, 1536),\n",
    "            torch.nn.ReLU(),\n",
    "            torch.nn.Linear(1536, 512),\n",
    "            \n",
    "        )\n",
    "         \n",
    " \n",
    "    def forward(self, x):\n",
    "        encoded = self.encoder(x)\n",
    "        encoded.double()\n",
    "        return encoded"
   ]
  },
  {
   "cell_type": "code",
   "execution_count": 5,
   "metadata": {},
   "outputs": [],
   "source": [
    "# Model Initialization\n",
    "model = AE()\n",
    " \n",
    "# Validation using MSE Loss function\n",
    "loss_function = torch.nn.MSELoss()\n",
    " \n",
    "# Using an Adam Optimizer with lr = 0.1\n",
    "optimizer = torch.optim.Adam(model.parameters(),\n",
    "                             lr = 1e-1,\n",
    "                             weight_decay = 1e-8)"
   ]
  },
  {
   "cell_type": "code",
   "execution_count": 6,
   "metadata": {},
   "outputs": [
    {
     "name": "stdout",
     "output_type": "stream",
     "text": [
      "\n",
      "Epoch 1 of 10\n",
      "-------------------------------\n",
      "Bach 0 of 4\n",
      "Bach 1 of 4\n",
      "Bach 2 of 4\n",
      "Bach 3 of 4\n",
      "\n",
      "Epoch 2 of 10\n",
      "-------------------------------\n",
      "Bach 0 of 4\n",
      "Bach 1 of 4\n",
      "Bach 2 of 4\n",
      "Bach 3 of 4\n",
      "\n",
      "Epoch 3 of 10\n",
      "-------------------------------\n",
      "Bach 0 of 4\n",
      "Bach 1 of 4\n",
      "Bach 2 of 4\n",
      "Bach 3 of 4\n",
      "\n",
      "Epoch 4 of 10\n",
      "-------------------------------\n",
      "Bach 0 of 4\n",
      "Bach 1 of 4\n",
      "Bach 2 of 4\n",
      "Bach 3 of 4\n",
      "\n",
      "Epoch 5 of 10\n",
      "-------------------------------\n",
      "Bach 0 of 4\n",
      "Bach 1 of 4\n",
      "Bach 2 of 4\n",
      "Bach 3 of 4\n",
      "\n",
      "Epoch 6 of 10\n",
      "-------------------------------\n",
      "Bach 0 of 4\n",
      "Bach 1 of 4\n",
      "Bach 2 of 4\n",
      "Bach 3 of 4\n",
      "\n",
      "Epoch 7 of 10\n",
      "-------------------------------\n",
      "Bach 0 of 4\n",
      "Bach 1 of 4\n",
      "Bach 2 of 4\n",
      "Bach 3 of 4\n",
      "\n",
      "Epoch 8 of 10\n",
      "-------------------------------\n",
      "Bach 0 of 4\n",
      "Bach 1 of 4\n",
      "Bach 2 of 4\n",
      "Bach 3 of 4\n",
      "\n",
      "Epoch 9 of 10\n",
      "-------------------------------\n",
      "Bach 0 of 4\n",
      "Bach 1 of 4\n",
      "Bach 2 of 4\n",
      "Bach 3 of 4\n",
      "\n",
      "Epoch 10 of 10\n",
      "-------------------------------\n",
      "Bach 0 of 4\n",
      "Bach 1 of 4\n",
      "Bach 2 of 4\n",
      "Bach 3 of 4\n"
     ]
    }
   ],
   "source": [
    "epochs = 10\n",
    "outputs = []\n",
    "losses = []\n",
    "all_losses = []\n",
    "\n",
    "for epoch in range(epochs):\n",
    "    \n",
    "    print(f\"\\nEpoch {epoch+1} of {epochs}\")\n",
    "    print(\"-------------------------------\")\n",
    "\n",
    "    idx = -1\n",
    "\n",
    "    for (image, labels) in loader:\n",
    "      idx = idx + 1\n",
    "      print(f\"Bach {idx} of {len(loader)}\")\n",
    "\n",
    "      # Output of Autoencoder\n",
    "      features = model(image)\n",
    "\n",
    "      # Calculating the loss function\n",
    "      loss = loss_function(features, labels)\n",
    "       \n",
    "      optimizer.zero_grad()\n",
    "      loss.backward()\n",
    "      optimizer.step()\n",
    "       \n",
    "      # Storing the losses in a list for plotting\n",
    "      losses.append(float(loss))\n",
    "    outputs.append((epochs, image, features))\n",
    "    all_losses.append(np.average(losses)) \n",
    "\n",
    "    # torch_input = dataset2[0][0]\n",
    "    # onnx_program = torch.onnx.dynamo_export(model, torch_input)\n",
    "\n"
   ]
  },
  {
   "cell_type": "code",
   "execution_count": 7,
   "metadata": {},
   "outputs": [
    {
     "data": {
      "text/plain": [
       "[<matplotlib.lines.Line2D at 0x21cbd8917d0>]"
      ]
     },
     "execution_count": 7,
     "metadata": {},
     "output_type": "execute_result"
    },
    {
     "data": {
      "image/png": "[encoded data removed]",
      "text/plain": [
       "<Figure size 640x480 with 1 Axes>"
      ]
     },
     "metadata": {},
     "output_type": "display_data"
    }
   ],
   "source": [
    "\n",
    "# Defining the Plot Style\n",
    "plt.style.use('fivethirtyeight')\n",
    "plt.xlabel('Epochs')\n",
    "plt.ylabel('Loss')\n",
    "# losses2 = np.array(losses2)\n",
    " \n",
    "# Plotting the last 100 values\n",
    "plt.plot(all_losses)\n",
    "# losses"
   ]
  }
 ],
 "metadata": {
  "kernelspec": {
   "display_name": "Python 3",
   "language": "python",
   "name": "python3"
  },
  "language_info": {
   "codemirror_mode": {
    "name": "ipython",
    "version": 3
   },
   "file_extension": ".py",
   "mimetype": "text/x-python",
   "name": "python",
   "nbconvert_exporter": "python",
   "pygments_lexer": "ipython3",
   "version": "3.11.6"
  }
 },
 "nbformat": 4,
 "nbformat_minor": 2
}
