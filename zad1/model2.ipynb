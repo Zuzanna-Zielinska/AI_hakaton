{
 "cells": [
  {
   "cell_type": "code",
   "execution_count": 1,
   "metadata": {},
   "outputs": [],
   "source": [
    "import torch\n",
    "import numpy as np\n",
    "import matplotlib.pyplot as plt\n",
    "from taskdataset import TaskDataset\n",
    "import torchvision\n",
    "import cv2\n",
    "\n",
    "path_to_data = \"datasets/ModelStealingPub.pt\" # TODO Set path to datasets files\n",
    "\n",
    "# import torch\n",
    "from torchvision import datasets\n",
    "from torchvision import transforms\n",
    "import matplotlib.pyplot as plt\n",
    "import torch.nn as nn\n",
    "import torch.optim as optim"
   ]
  },
  {
   "cell_type": "code",
   "execution_count": 4,
   "metadata": {},
   "outputs": [
    {
     "ename": "TypeError",
     "evalue": "'type' object cannot be interpreted as an integer",
     "output_type": "error",
     "traceback": [
      "\u001b[1;31m---------------------------------------------------------------------------\u001b[0m",
      "\u001b[1;31mTypeError\u001b[0m                                 Traceback (most recent call last)",
      "Cell \u001b[1;32mIn[4], line 18\u001b[0m\n\u001b[0;32m     16\u001b[0m \u001b[38;5;28;01mfor\u001b[39;00m i \u001b[38;5;129;01min\u001b[39;00m \u001b[38;5;28mrange\u001b[39m(\u001b[38;5;28mlen\u001b[39m(dataset)):\n\u001b[0;32m     17\u001b[0m     I \u001b[38;5;241m=\u001b[39m dataset\u001b[38;5;241m.\u001b[39mimgs[i]\u001b[38;5;241m.\u001b[39mto(torch\u001b[38;5;241m.\u001b[39mfloat32) \u001b[38;5;241m/\u001b[39m \u001b[38;5;241m255\u001b[39m\n\u001b[1;32m---> 18\u001b[0m     el \u001b[38;5;241m=\u001b[39m [I\u001b[38;5;241m.\u001b[39mreshape(\u001b[38;5;241m3\u001b[39m\u001b[38;5;241m*\u001b[39m\u001b[38;5;241m32\u001b[39m\u001b[38;5;241m*\u001b[39m\u001b[38;5;241m32\u001b[39m), \u001b[43mnp\u001b[49m\u001b[38;5;241;43m.\u001b[39;49m\u001b[43mrandom\u001b[49m\u001b[38;5;241;43m.\u001b[39;49m\u001b[43mrand\u001b[49m\u001b[43m(\u001b[49m\u001b[38;5;241;43m512\u001b[39;49m\u001b[43m,\u001b[49m\u001b[43m \u001b[49m\u001b[43mnp\u001b[49m\u001b[38;5;241;43m.\u001b[39;49m\u001b[43mfloat32\u001b[49m\u001b[43m)\u001b[49m]\n\u001b[0;32m     19\u001b[0m     dataset2\u001b[38;5;241m.\u001b[39mappend(el)\n",
      "File \u001b[1;32mnumpy\\\\random\\\\mtrand.pyx:1218\u001b[0m, in \u001b[0;36mnumpy.random.mtrand.RandomState.rand\u001b[1;34m()\u001b[0m\n",
      "File \u001b[1;32mnumpy\\\\random\\\\mtrand.pyx:436\u001b[0m, in \u001b[0;36mnumpy.random.mtrand.RandomState.random_sample\u001b[1;34m()\u001b[0m\n",
      "File \u001b[1;32m_common.pyx:307\u001b[0m, in \u001b[0;36mnumpy.random._common.double_fill\u001b[1;34m()\u001b[0m\n",
      "\u001b[1;31mTypeError\u001b[0m: 'type' object cannot be interpreted as an integer"
     ]
    }
   ],
   "source": [
    "dataset = torch.load(path_to_data)\n",
    "\n",
    "for i in range(len(dataset)):\n",
    "    el = [dataset.ids[i], np.array(dataset.imgs[i]), dataset.labels[i]]\n",
    "\n",
    "    if el[1].shape != (32, 32, 3):\n",
    "        #convert to RGB\n",
    "        el[1] = cv2.cvtColor(el[1], cv2.COLOR_GRAY2RGB)\n",
    "        #convert to tensor\n",
    "        dataset.imgs[i] = torch.from_numpy(el[1])\n",
    "    else:\n",
    "        #convert to tensor\n",
    "        dataset.imgs[i] = torch.from_numpy(el[1])\n",
    "\n",
    "dataset2 = []\n",
    "for i in range(len(dataset)):\n",
    "    I = dataset.imgs[i].to(torch.float32) / 255\n",
    "    label = np.random.rand(512)\n",
    "    el = [I.reshape(3*32*32), label.astype(np.float32)]\n",
    "    dataset2.append(el)\n",
    "\n"
   ]
  },
  {
   "cell_type": "code",
   "execution_count": null,
   "metadata": {},
   "outputs": [
    {
     "name": "stdout",
     "output_type": "stream",
     "text": [
      "<class 'int'>\n",
      "<class 'torch.Tensor'>\n",
      "<class 'str'>\n"
     ]
    },
    {
     "data": {
      "text/plain": [
       "13000"
      ]
     },
     "execution_count": 3,
     "metadata": {},
     "output_type": "execute_result"
    }
   ],
   "source": [
    "print(type(dataset[1][0]))\n",
    "print(type(dataset[1][1]))\n",
    "print(type(dataset[1][2]))\n",
    "len(dataset)"
   ]
  },
  {
   "cell_type": "code",
   "execution_count": null,
   "metadata": {},
   "outputs": [
    {
     "ename": "IndexError",
     "evalue": "list index out of range",
     "output_type": "error",
     "traceback": [
      "\u001b[1;31m---------------------------------------------------------------------------\u001b[0m",
      "\u001b[1;31mIndexError\u001b[0m                                Traceback (most recent call last)",
      "Cell \u001b[1;32mIn[3], line 1\u001b[0m\n\u001b[1;32m----> 1\u001b[0m \u001b[38;5;28mprint\u001b[39m(\u001b[38;5;28mtype\u001b[39m(\u001b[43mdataset2\u001b[49m\u001b[43m[\u001b[49m\u001b[38;5;241;43m1\u001b[39;49m\u001b[43m]\u001b[49m[\u001b[38;5;241m0\u001b[39m]))\n\u001b[0;32m      2\u001b[0m \u001b[38;5;28mprint\u001b[39m(\u001b[38;5;28mtype\u001b[39m(dataset2[\u001b[38;5;241m1\u001b[39m][\u001b[38;5;241m1\u001b[39m]))\n\u001b[0;32m      3\u001b[0m \u001b[38;5;28mprint\u001b[39m(dataset2[\u001b[38;5;241m1\u001b[39m][\u001b[38;5;241m1\u001b[39m]\u001b[38;5;241m.\u001b[39mshape)\n",
      "\u001b[1;31mIndexError\u001b[0m: list index out of range"
     ]
    }
   ],
   "source": [
    "print(type(dataset2[1][0]))\n",
    "print(type(dataset2[1][1]))\n",
    "print(type(dataset2[1][1]))\n",
    "print(dataset2[1][1].shape)\n",
    "len(dataset2)"
   ]
  },
  {
   "cell_type": "code",
   "execution_count": null,
   "metadata": {},
   "outputs": [
    {
     "data": {
      "text/plain": [
       "407"
      ]
     },
     "execution_count": 5,
     "metadata": {},
     "output_type": "execute_result"
    }
   ],
   "source": [
    "loader = torch.utils.data.DataLoader(dataset = dataset2,\n",
    "                                     batch_size = 32,\n",
    "                                     shuffle = True)\n",
    "len(loader)"
   ]
  },
  {
   "cell_type": "code",
   "execution_count": null,
   "metadata": {},
   "outputs": [],
   "source": [
    "class AE(torch.nn.Module):\n",
    "    def __init__(self):\n",
    "        super().__init__()\n",
    "         \n",
    "        # Building an linear encoder with Linear\n",
    "        # layer followed by Relu activation function\n",
    "        # 784 ==> 9\n",
    "        self.encoder = torch.nn.Sequential(\n",
    "            \n",
    "            torch.nn.Linear(3 * 32 * 32, 512),\n",
    "            # torch.nn.ReLU(),\n",
    "            # torch.nn.Linear(1536, 1536),\n",
    "            # torch.nn.ReLU(),\n",
    "            # torch.nn.Linear(1536, 512),\n",
    "            # torch.nn.ReLU(),\n",
    "            # torch.nn.Linear(36, 18),\n",
    "            \n",
    "        )\n",
    "         \n",
    " \n",
    "    def forward(self, x):\n",
    "        encoded = self.encoder(x)\n",
    "        encoded.double()\n",
    "        return encoded"
   ]
  },
  {
   "cell_type": "code",
   "execution_count": null,
   "metadata": {},
   "outputs": [],
   "source": [
    "# Model Initialization\n",
    "model = AE()\n",
    " \n",
    "# Validation using MSE Loss function\n",
    "loss_function = torch.nn.MSELoss()\n",
    " \n",
    "# Using an Adam Optimizer with lr = 0.1\n",
    "optimizer = torch.optim.Adam(model.parameters(),\n",
    "                             lr = 1e-1,\n",
    "                             weight_decay = 1e-8)"
   ]
  },
  {
   "cell_type": "code",
   "execution_count": 3,
   "metadata": {},
   "outputs": [
    {
     "ename": "NameError",
     "evalue": "name 'loader' is not defined",
     "output_type": "error",
     "traceback": [
      "\u001b[1;31m---------------------------------------------------------------------------\u001b[0m",
      "\u001b[1;31mNameError\u001b[0m                                 Traceback (most recent call last)",
      "Cell \u001b[1;32mIn[3], line 7\u001b[0m\n\u001b[0;32m      3\u001b[0m losses \u001b[38;5;241m=\u001b[39m []\n\u001b[0;32m      6\u001b[0m \u001b[38;5;28;01mfor\u001b[39;00m epoch \u001b[38;5;129;01min\u001b[39;00m \u001b[38;5;28mrange\u001b[39m(epochs):\n\u001b[1;32m----> 7\u001b[0m     \u001b[38;5;28;01mfor\u001b[39;00m (image, labels) \u001b[38;5;129;01min\u001b[39;00m \u001b[43mloader\u001b[49m:\n\u001b[0;32m      8\u001b[0m       idx \u001b[38;5;241m=\u001b[39m \u001b[38;5;241m-\u001b[39m\u001b[38;5;241m1\u001b[39m\n\u001b[0;32m      9\u001b[0m       \u001b[38;5;28;01mfor\u001b[39;00m I \u001b[38;5;129;01min\u001b[39;00m image:\n\u001b[0;32m     10\u001b[0m        \n\u001b[0;32m     11\u001b[0m       \u001b[38;5;66;03m# Reshaping the image to (-1, 784)\u001b[39;00m\n\u001b[0;32m     12\u001b[0m       \u001b[38;5;66;03m# image = image.reshape(-1, 3*32*32)\u001b[39;00m\n",
      "\u001b[1;31mNameError\u001b[0m: name 'loader' is not defined"
     ]
    }
   ],
   "source": [
    "epochs = 1\n",
    "outputs = []\n",
    "losses = []\n",
    "\n",
    "\n",
    "for epoch in range(epochs):\n",
    "    for (image, labels) in loader:\n",
    "      idx = -1\n",
    "      for I in image:\n",
    "       \n",
    "      # Reshaping the image to (-1, 784)\n",
    "      # image = image.reshape(-1, 3*32*32)\n",
    "\n",
    "        idx = idx + 1\n",
    "       \n",
    "      # # Output of Autoencoder\n",
    "        features = model(I)\n",
    "\n",
    "        # print(\"features\")\n",
    "        # print(type(features))\n",
    "        # print(features.shape)\n",
    "\n",
    "        # print(\"labels\")\n",
    "\n",
    "        # print(type(labels[idx]))\n",
    "        # print(labels[idx].shape)\n",
    "        \n",
    "        \n",
    "        \n",
    "        # break\n",
    "       \n",
    "      # Calculating the loss function\n",
    "        loss = loss_function(features, labels[idx])\n",
    "        # loss = loss.to(torch.float16)\n",
    "        # print(type(loss))\n",
    "        # break\n",
    "       \n",
    "      # The gradients are set to zero,\n",
    "      # the gradient is computed and stored.\n",
    "      # .step() performs parameter update\n",
    "      optimizer.zero_grad()\n",
    "      loss.backward()\n",
    "      optimizer.step()\n",
    "       \n",
    "#       # Storing the losses in a list for plotting\n",
    "#       losses.append(loss)\n",
    "#     outputs.append((epochs, image, features))\n",
    " \n",
    "# # Defining the Plot Style\n",
    "# plt.style.use('fivethirtyeight')\n",
    "# plt.xlabel('Iterations')\n",
    "# plt.ylabel('Loss')\n",
    " \n",
    "# # Plotting the last 100 values\n",
    "# plt.plot(losses[-100:])\n",
    "idx"
   ]
  }
 ],
 "metadata": {
  "kernelspec": {
   "display_name": "Python 3",
   "language": "python",
   "name": "python3"
  },
  "language_info": {
   "codemirror_mode": {
    "name": "ipython",
    "version": 3
   },
   "file_extension": ".py",
   "mimetype": "text/x-python",
   "name": "python",
   "nbconvert_exporter": "python",
   "pygments_lexer": "ipython3",
   "version": "3.11.6"
  }
 },
 "nbformat": 4,
 "nbformat_minor": 2
}
