{
 "cells": [
  {
   "cell_type": "code",
   "execution_count": 1,
   "metadata": {},
   "outputs": [],
   "source": [
    "import torch\n",
    "import numpy as np\n",
    "import matplotlib.pyplot as plt\n",
    "from taskdataset import TaskDataset\n",
    "import torchvision\n",
    "import cv2\n",
    "\n",
    "path_to_data = \"datasets/ModelStealingPub.pt\" # TODO Set path to datasets files\n",
    "\n",
    "# import torch\n",
    "from torchvision import datasets\n",
    "from torchvision import transforms\n",
    "import matplotlib.pyplot as plt\n",
    "import torch.nn as nn\n",
    "import torch.optim as optim"
   ]
  },
  {
   "cell_type": "code",
   "execution_count": 2,
   "metadata": {},
   "outputs": [],
   "source": [
    "dataset = torch.load(path_to_data)\n",
    "\n",
    "# lenght = len(dataset)\n",
    "length = 100\n",
    "\n",
    "for i in range(length):\n",
    "    el = [dataset.ids[i], np.array(dataset.imgs[i]), dataset.labels[i]]\n",
    "\n",
    "    if el[1].shape != (32, 32, 3):\n",
    "        #convert to RGB\n",
    "        el[1] = cv2.cvtColor(el[1], cv2.COLOR_GRAY2RGB)\n",
    "        #convert to tensor\n",
    "        dataset.imgs[i] = torch.from_numpy(el[1])\n",
    "    else:\n",
    "        #convert to tensor\n",
    "        dataset.imgs[i] = torch.from_numpy(el[1])\n",
    "\n",
    "dataset2 = []\n",
    "for i in range(length):\n",
    "    I = dataset.imgs[i].to(torch.float32) / 255\n",
    "    label = np.random.rand(512)\n",
    "    el = [I.reshape(3*32*32), label.astype(np.float32)]\n",
    "    dataset2.append(el)\n",
    "\n"
   ]
  },
  {
   "cell_type": "code",
   "execution_count": 12,
   "metadata": {},
   "outputs": [],
   "source": [
    "dataset = torch.load(path_to_data)\n",
    "\n",
    "# lenght = len(dataset)\n",
    "length = 100\n",
    "\n",
    "for i in range(length):\n",
    "    image = np.array(dataset.imgs[i])\n",
    "\n",
    "\n",
    "    if image.shape != (32, 32, 3):\n",
    "        #convert to RGB\n",
    "        image = cv2.cvtColor(image, cv2.COLOR_GRAY2RGB)\n",
    "    #convert to tensor\n",
    "    image = torch.from_numpy(image)\n",
    "\n",
    "    image = image.to(torch.float32) / 255\n",
    "\n",
    "\n",
    "# dataset2 = []\n",
    "# for i in range(length):\n",
    "#     I = dataset.imgs[i].to(torch.float32) / 255\n",
    "#     label = np.random.rand(512)\n",
    "#     el = [I.reshape(3*32*32), label.astype(np.float32)]\n",
    "#     dataset2.append(el)\n",
    "\n"
   ]
  },
  {
   "cell_type": "code",
   "execution_count": 3,
   "metadata": {},
   "outputs": [
    {
     "name": "stdout",
     "output_type": "stream",
     "text": [
      "<class 'torch.Tensor'>\n",
      "<class 'numpy.ndarray'>\n",
      "<class 'numpy.float32'>\n",
      "(512,)\n"
     ]
    },
    {
     "data": {
      "text/plain": [
       "100"
      ]
     },
     "execution_count": 3,
     "metadata": {},
     "output_type": "execute_result"
    }
   ],
   "source": [
    "print(type(dataset2[1][0]))\n",
    "print(type(dataset2[1][1]))\n",
    "print(type(dataset2[1][1][0]))\n",
    "print(dataset2[1][1].shape)\n",
    "len(dataset2)"
   ]
  },
  {
   "cell_type": "code",
   "execution_count": 4,
   "metadata": {},
   "outputs": [
    {
     "data": {
      "text/plain": [
       "4"
      ]
     },
     "execution_count": 4,
     "metadata": {},
     "output_type": "execute_result"
    }
   ],
   "source": [
    "loader = torch.utils.data.DataLoader(dataset = dataset2,\n",
    "                                     batch_size = 32,\n",
    "                                     shuffle = True)\n",
    "len(loader)"
   ]
  },
  {
   "cell_type": "code",
   "execution_count": 5,
   "metadata": {},
   "outputs": [],
   "source": [
    "class AE(torch.nn.Module):\n",
    "    def __init__(self):\n",
    "        super().__init__()\n",
    "         \n",
    "        # Building an linear encoder with Linear\n",
    "        # layer followed by Relu activation function\n",
    "        # 784 ==> 9\n",
    "        self.encoder = torch.nn.Sequential(\n",
    "            \n",
    "            torch.nn.Linear(3 * 32 * 32, 1536),\n",
    "            torch.nn.ReLU(),\n",
    "            torch.nn.Linear(1536, 1536),\n",
    "            torch.nn.ReLU(),\n",
    "            torch.nn.Linear(1536, 512),\n",
    "            # torch.nn.ReLU(),\n",
    "            # torch.nn.Linear(36, 18),\n",
    "            \n",
    "        )\n",
    "         \n",
    " \n",
    "    def forward(self, x):\n",
    "        encoded = self.encoder(x)\n",
    "        encoded.double()\n",
    "        return encoded"
   ]
  },
  {
   "cell_type": "code",
   "execution_count": 6,
   "metadata": {},
   "outputs": [],
   "source": [
    "# Model Initialization\n",
    "model = AE()\n",
    " \n",
    "# Validation using MSE Loss function\n",
    "loss_function = torch.nn.MSELoss()\n",
    " \n",
    "# Using an Adam Optimizer with lr = 0.1\n",
    "optimizer = torch.optim.Adam(model.parameters(),\n",
    "                             lr = 1e-1,\n",
    "                             weight_decay = 1e-8)"
   ]
  },
  {
   "cell_type": "code",
   "execution_count": 7,
   "metadata": {},
   "outputs": [],
   "source": [
    "epochs = 10\n",
    "outputs = []\n",
    "losses = []\n",
    "all_losses = []\n",
    "\n",
    "\n",
    "for epoch in range(epochs):\n",
    "\n",
    "    for (image, labels) in loader:\n",
    "\n",
    "      # Output of Autoencoder\n",
    "      features = model(image)\n",
    "\n",
    "      # Calculating the loss function\n",
    "      loss = loss_function(features, labels)\n",
    "       \n",
    "      optimizer.zero_grad()\n",
    "      loss.backward()\n",
    "      optimizer.step()\n",
    "       \n",
    "      # Storing the losses in a list for plotting\n",
    "      losses.append(float(loss))\n",
    "    outputs.append((epochs, image, features))\n",
    "    all_losses.append(np.average(losses))\n",
    "\n"
   ]
  },
  {
   "cell_type": "code",
   "execution_count": 8,
   "metadata": {},
   "outputs": [
    {
     "data": {
      "text/plain": [
       "[<matplotlib.lines.Line2D at 0x27a42be5d50>]"
      ]
     },
     "execution_count": 8,
     "metadata": {},
     "output_type": "execute_result"
    },
    {
     "data": {
      "image/png": "[encoded data removed]",
      "text/plain": [
       "<Figure size 640x480 with 1 Axes>"
      ]
     },
     "metadata": {},
     "output_type": "display_data"
    }
   ],
   "source": [
    "\n",
    "# Defining the Plot Style\n",
    "plt.style.use('fivethirtyeight')\n",
    "plt.xlabel('Epochs')\n",
    "plt.ylabel('Loss')\n",
    "# losses2 = np.array(losses2)\n",
    " \n",
    "# Plotting the last 100 values\n",
    "plt.plot(all_losses)\n",
    "# losses"
   ]
  }
 ],
 "metadata": {
  "kernelspec": {
   "display_name": "Python 3",
   "language": "python",
   "name": "python3"
  },
  "language_info": {
   "codemirror_mode": {
    "name": "ipython",
    "version": 3
   },
   "file_extension": ".py",
   "mimetype": "text/x-python",
   "name": "python",
   "nbconvert_exporter": "python",
   "pygments_lexer": "ipython3",
   "version": "3.11.6"
  }
 },
 "nbformat": 4,
 "nbformat_minor": 2
}
